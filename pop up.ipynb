{
 "cells": [
  {
   "cell_type": "markdown",
   "metadata": {},
   "source": [
    "# Скрипт для формування pop-up \n"
   ]
  },
  {
   "cell_type": "markdown",
   "metadata": {},
   "source": [
    "#### Ініціалізація скрипту"
   ]
  },
  {
   "cell_type": "markdown",
   "metadata": {},
   "source": [
    "У змінну `current_folder` вкажіть директорію де будуть зберігатися файли"
   ]
  },
  {
   "cell_type": "code",
   "execution_count": null,
   "metadata": {},
   "outputs": [],
   "source": [
    "# -*- coding: utf-8 -*-\n",
    "\n",
    "import arcpy\n",
    "import csv\n",
    "import json\n",
    "\n",
    "aprx = arcpy.mp.ArcGISProject(\"current\")\n",
    "\n",
    "current_folder = \"C:\\\\Users\\\\Home PC\\\\Desktop\""
   ]
  },
  {
   "cell_type": "markdown",
   "metadata": {},
   "source": [
    "Список усіх доступних карт в поточному проекті"
   ]
  },
  {
   "cell_type": "code",
   "execution_count": null,
   "metadata": {},
   "outputs": [],
   "source": [
    "for numb, map in enumerate(aprx.listMaps()):\n",
    "    print(numb, map.name)"
   ]
  },
  {
   "cell_type": "markdown",
   "metadata": {},
   "source": [
    "У змінну `map_number` ввести номер відповідної карти"
   ]
  },
  {
   "cell_type": "code",
   "execution_count": null,
   "metadata": {},
   "outputs": [],
   "source": [
    "map_number = 0\n",
    "map = aprx.listMaps()[map_number]\n",
    "layers = map.listLayers()"
   ]
  },
  {
   "cell_type": "markdown",
   "metadata": {},
   "source": [
    "#### Створення вихідних даних"
   ]
  },
  {
   "cell_type": "code",
   "execution_count": null,
   "metadata": {
    "scrolled": true
   },
   "outputs": [],
   "source": [
    "setFilelds = set()\n",
    "\n",
    "for layer in layers:\n",
    "    if layer.isFeatureLayer:\n",
    "        path = arcpy.Describe(layer).catalogPath\n",
    "        fields = arcpy.ListFields(path)\n",
    "        for f in fields:\n",
    "            setFilelds.add(f.name)\n",
    "\n",
    "csv_header = [\"fieldName\", \"label\", \"visible\"]\n",
    "csv_data = [[row, \"\", \"\"] for row in setFilelds]\n",
    "\n",
    "with open(f\"{current_folder}\\\\pop_up.csv\", 'w', newline='', encoding=\"utf8\") as f:\n",
    "    writer = csv.writer(f)\n",
    "    writer.writerow(csv_header)\n",
    "    writer.writerows(csv_data)"
   ]
  },
  {
   "cell_type": "markdown",
   "metadata": {},
   "source": [
    "<div class=\"alert alert-block alert-info\">\n",
    "\n",
    "⚠️ **Важливо!** У робочій директорії зберігся файл `pop_up.csv`  Цей файл потрібно заповнити перед запуском наступних команд. Можливо будуть проблеми з кодуванням, рекомендую csv відкривати у google spreadsheet\n",
    "</div>\n",
    "\n",
    "\n",
    "\n",
    "| fieldName | label | visible |\n",
    "|-----------|-------|---------|\n",
    "| street    |       |         |\n",
    "| OID       |       |         |\n",
    "| Напр      |       |         |\n",
    "| .....     |       |         |\n",
    "\n",
    "- Колонка fieldName заповняється автоматично, це всі унікальні значення назв параметрів\n",
    "- label - це назва поля яка буде відображатися у pop-up\n",
    "- visible - це значення `True/False` відповідають чи буде показаний параметр у pop-up чи ні\n",
    "  \n",
    "\n",
    "| fieldName | label        | visible |\n",
    "|-----------|--------------|---------|\n",
    "| street    | Назва вулиці | True    |\n",
    "| OID       | OID          | False   |\n",
    "| Напр      | Напруга, кВ  | True    |\n",
    "| .....     | .....        | ....    |"
   ]
  },
  {
   "cell_type": "code",
   "execution_count": 58,
   "metadata": {},
   "outputs": [],
   "source": [
    "csv_file = open(f\"{current_folder}\\\\pop_up.csv\", 'r', encoding=\"utf8\")\n",
    "\n",
    "reader = csv.reader(csv_file)\n",
    "header = next(reader)\n",
    "\n",
    "def parse(string):\n",
    "    d = {'TRUE': True, 'FALSE': False, 'True': True, 'False': False}\n",
    "    return d.get(string, False)\n",
    "\n",
    "csv_dict = {row[0]:{\"label\":row[1], \"visible\":parse(row[2])} for row in reader}"
   ]
  },
  {
   "cell_type": "markdown",
   "metadata": {},
   "source": [
    "#### Формування JSON"
   ]
  },
  {
   "cell_type": "code",
   "execution_count": 59,
   "metadata": {},
   "outputs": [],
   "source": [
    "list_layers = []\n",
    "\n",
    "for n, layer in enumerate(layers):\n",
    "    if layer.isGroupLayer:\n",
    "        list_layers.append(\n",
    "            {\n",
    "                \"id\": n\n",
    "            }\n",
    "        )\n",
    "    elif layer.isFeatureLayer:\n",
    "        path = arcpy.Describe(layer).catalogPath\n",
    "        fields = arcpy.ListFields(path)\n",
    "        \n",
    "        fieldsList = []\n",
    "        \n",
    "        for field in fields:\n",
    "            if field.type == \"Double\":\n",
    "                fieldsList.append(\n",
    "                    {\n",
    "                        \"fieldName\": field.name,\n",
    "                        \"label\": csv_dict[field.name]['label'],\n",
    "                        \"tooltip\": \"\",\n",
    "                        \"visible\": csv_dict[field.name]['visible'],\n",
    "                        \"stringFieldOption\": \"textbox\",\n",
    "                        \"format\": {\n",
    "                            \"places\": 2,\n",
    "                            \"digitSeparator\": True\n",
    "                        }\n",
    "                    }\n",
    "                )\n",
    "            else:\n",
    "                fieldsList.append(\n",
    "                    {\n",
    "                        \"fieldName\": field.name,\n",
    "                        \"label\": csv_dict[field.name]['label'],\n",
    "                        \"tooltip\": \"\",\n",
    "                        \"visible\": csv_dict[field.name]['visible'],\n",
    "                        \"stringFieldOption\": \"textbox\"\n",
    "                    }\n",
    "                )\n",
    "            \n",
    "        \n",
    "        list_layers.append(\n",
    "            {\n",
    "               \"id\": n,\n",
    "                \"popupInfo\": {\n",
    "                    \"title\": layer.name,\n",
    "                    \"fieldInfos\": fieldsList,\n",
    "                    \"description\": None,\n",
    "                    \"showAttachments\": True,\n",
    "                    \"mediaInfos\": []\n",
    "                } \n",
    "            }\n",
    "        )\n",
    "\n",
    "jsonList = json.dumps(list_layers, ensure_ascii=False)\n",
    "\n",
    "with open(f\"{current_folder}\\\\pop_up.json\", 'w', encoding=\"utf8\") as outfile:\n",
    "    outfile.write(jsonList)  "
   ]
  },
  {
   "cell_type": "markdown",
   "metadata": {},
   "source": [
    "У робочій директорії зберігся готовий файл `pop_up.json`\n",
    "\n",
    "У ArcGIS Assistant потрібно знайти відповідий шар і у значення `layer: []` замінити даними із json разом із квадратними скобками "
   ]
  }
 ],
 "metadata": {
  "kernelspec": {
   "display_name": "ArcGISPro",
   "language": "Python",
   "name": "python3"
  },
  "language_info": {
   "file_extension": ".py",
   "name": "python",
   "version": "3"
  }
 },
 "nbformat": 4,
 "nbformat_minor": 2
}
