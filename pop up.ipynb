{
 "cells": [
  {
   "cell_type": "markdown",
   "metadata": {},
   "source": [
    "# Скрипт для формування pop up \n"
   ]
  },
  {
   "cell_type": "code",
   "execution_count": null,
   "metadata": {},
   "outputs": [],
   "source": [
    "# -*- coding: utf-8 -*-\n",
    "\n",
    "import json\n",
    "import arcpy\n",
    "\n",
    "aprx = arcpy.mp.ArcGISProject(\"current\")\n",
    "map = aprx.listMaps()[0]\n",
    "print(map.name)\n",
    "layers = map.listLayers()"
   ]
  },
  {
   "cell_type": "code",
   "execution_count": 23,
   "metadata": {},
   "outputs": [
    {
     "name": "stdout",
     "output_type": "stream",
     "text": [
      "Double\n"
     ]
    }
   ],
   "source": [
    "p = arcpy.Describe(layers[1]).catalogPath\n",
    "f = arcpy.ListFields(path)\n",
    "print(f[3].type)"
   ]
  },
  {
   "cell_type": "code",
   "execution_count": 44,
   "metadata": {},
   "outputs": [
    {
     "name": "stdout",
     "output_type": "stream",
     "text": [
      "26\n"
     ]
    }
   ],
   "source": [
    "count = 0\n",
    "for l in layers:\n",
    "    if l.isGroupLayer:\n",
    "        count += 1\n",
    "print(count)"
   ]
  },
  {
   "cell_type": "code",
   "execution_count": 45,
   "metadata": {
    "scrolled": true
   },
   "outputs": [
    {
     "name": "stdout",
     "output_type": "stream",
     "text": [
      "tp\n",
      "KUDA\n",
      "Стан\n",
      "Шар\n",
      "Назв_5\n",
      "Гриф_\n",
      "рёр_с\n",
      "S\n",
      "data\n",
      "Shape\n",
      "LENGTH\n",
      "Z\n",
      "внс\n",
      "Ознак\n",
      "expl\n",
      "ATimeStamp\n",
      "napr\n",
      "Хара_1\n",
      "Напру\n",
      "Поясн\n",
      "adress\n",
      "Тимча\n",
      "Позн_1\n",
      "рџр_р\n",
      "Підпи\n",
      "Номер\n",
      "namber\n",
      "Ванта\n",
      "Висот\n",
      "П_Мат\n",
      "експл\n",
      "lep10\n",
      "поясн\n",
      "тиск\n",
      "s\n",
      "Власн\n",
      "ТИП\n",
      "Назв_6\n",
      "Назв_2\n",
      "Id\n",
      "Назв_3\n",
      "НАЗВА\n",
      "ID\n",
      "Відно\n",
      "Абсол\n",
      "HTML_пі\n",
      "Назви\n",
      "Площа\n",
      "nazva\n",
      "Поход\n",
      "Назв_4\n",
      "Вид_р\n",
      "Дата_\n",
      "Товщи\n",
      "Назв_1\n",
      "name\n",
      "NEWFIELD1\n",
      "рџрѕс\n",
      "Кільк\n",
      "ЕКСП_1\n",
      "Відст\n",
      "NAZV\n",
      "Назва\n",
      "SHAPE_Leng\n",
      "OBJECTID\n",
      "HTML_пі_\n",
      "FID\n",
      "EKCПЛ\n",
      "Харак\n",
      "Позна\n",
      "Ширин\n",
      "status\n",
      "Довжи\n",
      "Матер\n",
      "Вид_р_\n",
      "Btimestamp\n",
      "typ\n",
      "Шар_ID\n",
      "ATIMESTAMP\n",
      "Глиби\n"
     ]
    }
   ],
   "source": [
    "setFilelds = set()\n",
    "\n",
    "for layer in layers:\n",
    "    if layer.isFeatureLayer:\n",
    "        path = arcpy.Describe(layer).catalogPath\n",
    "        fields = arcpy.ListFields(path)\n",
    "        for f in fields:\n",
    "            setFilelds.add(f.name)\n",
    "\n",
    "for j in setFilelds:\n",
    "    print(j)"
   ]
  },
  {
   "cell_type": "code",
   "execution_count": 40,
   "metadata": {},
   "outputs": [
    {
     "name": "stdout",
     "output_type": "stream",
     "text": [
      "80\n"
     ]
    }
   ],
   "source": [
    "print(len(setFilelds))"
   ]
  },
  {
   "cell_type": "code",
   "execution_count": 58,
   "metadata": {},
   "outputs": [],
   "source": [
    "new_field_value = {\"tp\":{\"alias\":\"Трасформатор\", \"bool\":True},\"KUDA\":{\"alias\":\"KUDA\", \"bool\":False},\"Стан\":{\"alias\":\"Стан\", \"bool\":True},\"Шар\":{\"alias\":\"Шар\", \"bool\":False},\"Назв_5\":{\"alias\":\"Назв_5\", \"bool\":False},\"Гриф_\":{\"alias\":\"Гриф_\", \"bool\":False},\"рёр_с\":{\"alias\":\"рёр_с\", \"bool\":False},\"S\":{\"alias\":\"Площа\", \"bool\":True},\"data\":{\"alias\":\"Дата\", \"bool\":True},\"Shape\":{\"alias\":\"Shape\", \"bool\":False},\"LENGTH\":{\"alias\":\"LENGTH\", \"bool\":False},\"Z\":{\"alias\":\"Висота над рівнем моря\", \"bool\":True},\"внс\":{\"alias\":\"внс\", \"bool\":False},\"Ознак\":{\"alias\":\"Ознак\", \"bool\":False},\"expl\":{\"alias\":\"Експлікація\", \"bool\":True},\"ATimeStamp\":{\"alias\":\"ATimeStamp\", \"bool\":False},\"napr\":{\"alias\":\"Напруга\", \"bool\":True},\"Хара_1\":{\"alias\":\"Характеристика\", \"bool\":True},\"Напру\":{\"alias\":\"Напруга\", \"bool\":True},\"Поясн\":{\"alias\":\"Поясн\", \"bool\":True},\"adress\":{\"alias\":\"Адреса\", \"bool\":True},\"Тимча\":{\"alias\":\"Тимча\", \"bool\":False},\"Позн_1\":{\"alias\":\"Позн_1\", \"bool\":False},\"рџр_р\":{\"alias\":\"рџр_р\", \"bool\":False},\"Підпи\":{\"alias\":\"Підпи\", \"bool\":False},\"Номер\":{\"alias\":\"Номер\", \"bool\":True},\"namber\":{\"alias\":\"Номер\", \"bool\":True},\"Ванта\":{\"alias\":\"Вантажопідйомність\", \"bool\":True},\"Висот\":{\"alias\":\"Висота\", \"bool\":True},\"П_Мат\":{\"alias\":\"Покриття\", \"bool\":True},\"експл\":{\"alias\":\"Експлікація\", \"bool\":True},\"lep10\":{\"alias\":\"Напруга\", \"bool\":True},\"поясн\":{\"alias\":\"Пояснювальний напис\", \"bool\":True},\"тиск\":{\"alias\":\"Тиск\", \"bool\":True},\"s\":{\"alias\":\"Площа\", \"bool\":True},\"Власн\":{\"alias\":\"Власна назва\", \"bool\":True},\"ТИП\":{\"alias\":\"Тип\", \"bool\":True},\"Назв_6\":{\"alias\":\"Назв_6\", \"bool\":False},\"Назв_2\":{\"alias\":\"Назв_2\", \"bool\":False},\"Id\":{\"alias\":\"Id\", \"bool\":False},\"Назв_3\":{\"alias\":\"Назв_3\", \"bool\":False},\"НАЗВА\":{\"alias\":\"Назва\", \"bool\":True},\"ID\":{\"alias\":\"ID\", \"bool\":False},\"Відно\":{\"alias\":\"Відносна висота, м\", \"bool\":True},\"Абсол\":{\"alias\":\"Абсолютна висота, м\", \"bool\":True},\"HTML_пі\":{\"alias\":\"HTML_пі\", \"bool\":False},\"Назви\":{\"alias\":\"Назви\", \"bool\":False},\"Площа\":{\"alias\":\"Площа\", \"bool\":True},\"nazva\":{\"alias\":\"nazva\", \"bool\":False},\"Поход\":{\"alias\":\"Поход\", \"bool\":False},\"Назв_4\":{\"alias\":\"Назв_4\", \"bool\":False},\"Вид_р\":{\"alias\":\"Вид рослинності\", \"bool\":True},\"Дата_\":{\"alias\":\"Дата\", \"bool\":True},\"Товщи\":{\"alias\":\"Товщи\", \"bool\":False},\"Назв_1\":{\"alias\":\"Назва\", \"bool\":True},\"name\":{\"alias\":\"Назва\", \"bool\":True},\"NEWFIELD1\":{\"alias\":\"NEWFIELD1\", \"bool\":False},\"рџрѕс\":{\"alias\":\"рџрѕс\", \"bool\":False},\"Кільк\":{\"alias\":\"Кількість\", \"bool\":True},\"ЕКСП_1\":{\"alias\":\"Експлікація\", \"bool\":True},\"Відст\":{\"alias\":\"Відст\", \"bool\":False},\"NAZV\":{\"alias\":\"NAZV\", \"bool\":False},\"Назва\":{\"alias\":\"Назва\", \"bool\":True},\"SHAPE_Leng\":{\"alias\":\"SHAPE_Leng\", \"bool\":False},\"OBJECTID\":{\"alias\":\"OBJECTID\", \"bool\":False},\"HTML_пі_\":{\"alias\":\"HTML_пі_\", \"bool\":False},\"FID\":{\"alias\":\"FID\", \"bool\":False},\"EKCПЛ\":{\"alias\":\"Експлікація\", \"bool\":True},\"Харак\":{\"alias\":\"Характеристика\", \"bool\":True},\"Позна\":{\"alias\":\"Позна\", \"bool\":False},\"Ширин\":{\"alias\":\"Ширина\", \"bool\":True},\"status\":{\"alias\":\"status\", \"bool\":False},\"Довжи\":{\"alias\":\"Довжина\", \"bool\":True},\"Матер\":{\"alias\":\"Матер\", \"bool\":False},\"Вид_р_\":{\"alias\":\"Вид_р_\", \"bool\":False},\"Btimestamp\":{\"alias\":\"Btimestamp\", \"bool\":False},\"typ\":{\"alias\":\"Тип\", \"bool\":True},\"Шар_ID\":{\"alias\":\"Шар_ID\", \"bool\":False},\"ATIMESTAMP\":{\"alias\":\"ATIMESTAMP\", \"bool\":False},\"Глиби\":{\"alias\":\"Глибина\", \"bool\":True}}"
   ]
  },
  {
   "cell_type": "code",
   "execution_count": 59,
   "metadata": {},
   "outputs": [],
   "source": [
    "list_layers = []\n",
    "\n",
    "for n, layer in enumerate(layers):\n",
    "    if layer.isGroupLayer:\n",
    "        list_layers.append(\n",
    "            {\n",
    "                \"id\": n\n",
    "            }\n",
    "        )\n",
    "    elif layer.isFeatureLayer:\n",
    "        path = arcpy.Describe(layer).catalogPath\n",
    "        fields = arcpy.ListFields(path)\n",
    "        \n",
    "        fieldsList = []\n",
    "        \n",
    "        for field in fields:\n",
    "            if field.type == \"Double\":\n",
    "                fieldsList.append(\n",
    "                    {\n",
    "                        \"fieldName\": field.name,\n",
    "                        \"label\": new_field_value[field.name]['alias'],\n",
    "                        \"tooltip\": \"\",\n",
    "                        \"visible\": new_field_value[field.name]['bool'],\n",
    "                        \"stringFieldOption\": \"textbox\",\n",
    "                        \"format\": {\n",
    "                            \"places\": 2,\n",
    "                            \"digitSeparator\": True\n",
    "                        }\n",
    "                    }\n",
    "                )\n",
    "            else:\n",
    "                fieldsList.append(\n",
    "                    {\n",
    "                        \"fieldName\": field.name,\n",
    "                        \"label\": new_field_value[field.name]['alias'],\n",
    "                        \"tooltip\": \"\",\n",
    "                        \"visible\": new_field_value[field.name]['bool'],\n",
    "                        \"stringFieldOption\": \"textbox\"\n",
    "                    }\n",
    "                )\n",
    "            \n",
    "        \n",
    "        list_layers.append(\n",
    "            {\n",
    "               \"id\": n,\n",
    "                \"popupInfo\": {\n",
    "                    \"title\": layer.name,\n",
    "                    \"fieldInfos\": fieldsList,\n",
    "                    \"description\": None,\n",
    "                    \"showAttachments\": True,\n",
    "                    \"mediaInfos\": []\n",
    "                } \n",
    "            }\n",
    "        )\n",
    "        "
   ]
  },
  {
   "cell_type": "code",
   "execution_count": 60,
   "metadata": {},
   "outputs": [],
   "source": [
    "jsonList = json.dumps(list_layers, ensure_ascii=False)"
   ]
  },
  {
   "cell_type": "code",
   "execution_count": 61,
   "metadata": {},
   "outputs": [],
   "source": [
    "with open('C:\\\\Users\\\\Home PC\\\\Desktop\\\\json.json', 'w') as outfile:\n",
    "    outfile.write(jsonList)"
   ]
  }
 ],
 "metadata": {
  "kernelspec": {
   "display_name": "ArcGISPro",
   "language": "Python",
   "name": "python3"
  },
  "language_info": {
   "file_extension": ".py",
   "name": "python",
   "version": "3"
  }
 },
 "nbformat": 4,
 "nbformat_minor": 2
}
